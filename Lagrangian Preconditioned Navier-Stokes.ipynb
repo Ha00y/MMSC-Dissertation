{
 "cells": [
  {
   "cell_type": "code",
   "execution_count": 1,
   "metadata": {},
   "outputs": [
    {
     "ename": "ModuleNotFoundError",
     "evalue": "No module named 'netgen'",
     "output_type": "error",
     "traceback": [
      "\u001b[0;31m---------------------------------------------------------------------------\u001b[0m",
      "\u001b[0;31mModuleNotFoundError\u001b[0m                       Traceback (most recent call last)",
      "Cell \u001b[0;32mIn[1], line 5\u001b[0m\n\u001b[1;32m      2\u001b[0m \u001b[38;5;28;01mimport\u001b[39;00m \u001b[38;5;21;01mnumpy\u001b[39;00m \u001b[38;5;28;01mas\u001b[39;00m \u001b[38;5;21;01mnp\u001b[39;00m\n\u001b[1;32m      4\u001b[0m \u001b[38;5;28;01mfrom\u001b[39;00m \u001b[38;5;21;01mfiredrake\u001b[39;00m \u001b[38;5;28;01mimport\u001b[39;00m \u001b[38;5;241m*\u001b[39m\n\u001b[0;32m----> 5\u001b[0m \u001b[38;5;28;01mfrom\u001b[39;00m \u001b[38;5;21;01mnetgen\u001b[39;00m\u001b[38;5;21;01m.\u001b[39;00m\u001b[38;5;21;01mocc\u001b[39;00m \u001b[38;5;28;01mimport\u001b[39;00m \u001b[38;5;241m*\u001b[39m\n\u001b[1;32m      6\u001b[0m \u001b[38;5;28;01mfrom\u001b[39;00m \u001b[38;5;21;01mngsPETSc\u001b[39;00m \u001b[38;5;28;01mimport\u001b[39;00m NetgenHierarchy\n\u001b[1;32m      7\u001b[0m \u001b[38;5;28;01mfrom\u001b[39;00m \u001b[38;5;21;01mfiredrake\u001b[39;00m\u001b[38;5;21;01m.\u001b[39;00m\u001b[38;5;21;01mpyplot\u001b[39;00m \u001b[38;5;28;01mimport\u001b[39;00m tricontourf\n",
      "\u001b[0;31mModuleNotFoundError\u001b[0m: No module named 'netgen'"
     ]
    }
   ],
   "source": [
    "import matplotlib.pyplot as plt\n",
    "import numpy as np\n",
    "\n",
    "from firedrake import *\n",
    "from netgen.occ import *\n",
    "from ngsPETSc import NetgenHierarchy\n",
    "from firedrake.pyplot import tricontourf\n",
    "from firedrake.pyplot import triplot"
   ]
  },
  {
   "cell_type": "code",
   "execution_count": null,
   "metadata": {},
   "outputs": [],
   "source": [
    "def solve_navierstokes(mesh,sp,p,nu):\n",
    "\n",
    "  n = FacetNormal(mesh)\n",
    "  (x, y) = SpatialCoordinate(mesh)\n",
    "\n",
    "  # Define Taylor--Hood function space W\n",
    "  V = VectorFunctionSpace(mesh, \"CG\", 2)\n",
    "  Q = FunctionSpace(mesh, \"CG\", 1)\n",
    "  W = MixedFunctionSpace([V, Q])\n",
    "\n",
    "  p0=10/13-x/13 #1atleft,0atright\n",
    "  bcs = DirichletBC(W.sub(0), Constant((0, 0)), walls)\n",
    "\n",
    "  # Define Function and TestFunction(s)\n",
    "  w = Function(W, name=\"Solution\")\n",
    "  (u, p) = split(w)\n",
    "  (v, q) = split(TestFunction(W))\n",
    "\n",
    "  # Define variational form\n",
    "  F = (\n",
    "        inner(2*nu*sym(grad(u)), sym(grad(v)))*dx\n",
    "        - div(u)*q*dx\n",
    "        - div(v)*p*dx\n",
    "        + p0*dot(v,n)*ds\n",
    "        - inner(outer(u, u), sym(grad(v)))*dx\n",
    "        + inner(dot(outer(u, u), n), v)*ds\n",
    "        )\n",
    "\n",
    "  # Solve problem\n",
    "  solve(F == 0, w, bcs)\n",
    "\n",
    "  # Save solutions\n",
    "  (u_, p_) = w.subfunctions\n",
    "  u_.rename(\"Velocity\")\n",
    "  p_.rename(\"Pressure\")\n",
    "\n",
    "  return u_, p_"
   ]
  },
  {
   "cell_type": "code",
   "execution_count": null,
   "metadata": {},
   "outputs": [],
   "source": [
    "# Define viscosity and bcs\n",
    "nu = Constant(0.2)\n",
    "\n",
    "sp = {\n",
    "    \"ksp_type\": \"cg\", # use conjugate gradients\n",
    "    \"ksp_monitor\": None, # print info about iteration\n",
    "    \"ksp_rtol\": 1.0e-10, # residual relative tolerance\n",
    "    \"pc_type\": \"mg\", # use geometric multigrid\n",
    "     }\n",
    "\n",
    "# Mesh: a hole removed from a rectangle\n",
    "disk = WorkPlane(Axes((0, 0, 0), n=Z, h=X)).Circle(1).Face()\n",
    "rect = WorkPlane(Axes((-3, -3, 0), n=Z, h=X)).Rectangle(13, 6).Face()\n",
    "domain = rect - disk\n",
    "\n",
    "# Label boundaries\n",
    "domain.edges.name = \"wall\"  # all default to wall\n",
    "domain.edges.Min(X).name = \"inlet\"\n",
    "domain.edges.Max(X).name = \"outlet\"\n",
    "geo = OCCGeometry(domain, dim=2)\n",
    "\n",
    "ngmesh = geo.GenerateMesh(maxh=1)\n",
    "ngsolve_mesh = Mesh(ngmesh)\n",
    "\n",
    "# Create a mesh hierarchy without the 'order' parameter\n",
    "mh = MeshHierarchy(ngsolve_mesh, 2)\n",
    "mesh = mh[-1]\n",
    "\n",
    "# Get wall regions\n",
    "walls = [i + 1 for (i, name) in enumerate(ngmesh.GetRegionNames(codim=1)) if name == \"wall\"]\n",
    "\n",
    "u, p = solve_navierstokes(mesh,sp,1,nu)"
   ]
  },
  {
   "cell_type": "code",
   "execution_count": null,
   "metadata": {},
   "outputs": [],
   "source": [
    "fig = plt.figure(figsize=(11,4))\n",
    "\n",
    "ax1 = fig.add_subplot(1, 1, 1)\n",
    "levels = np.linspace(0, 1, 51)\n",
    "contours = tricontourf(u, levels=levels, axes=ax1, cmap=\"inferno\")\n",
    "#triplot(mesh,axes=ax1)\n",
    "fig.colorbar(contours, ax=ax1)"
   ]
  }
 ],
 "metadata": {
  "kernelspec": {
   "display_name": "firedrake",
   "language": "python",
   "name": "firedrake"
  },
  "language_info": {
   "codemirror_mode": {
    "name": "ipython",
    "version": 3
   },
   "file_extension": ".py",
   "mimetype": "text/x-python",
   "name": "python",
   "nbconvert_exporter": "python",
   "pygments_lexer": "ipython3",
   "version": "3.10.12"
  }
 },
 "nbformat": 4,
 "nbformat_minor": 2
}
